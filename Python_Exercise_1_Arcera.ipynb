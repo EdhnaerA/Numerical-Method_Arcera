{
  "nbformat": 4,
  "nbformat_minor": 0,
  "metadata": {
    "colab": {
      "name": "Python Exercise 1_Arcera",
      "provenance": [],
      "collapsed_sections": [],
      "authorship_tag": "ABX9TyNo0Er3eRsdSOU1C8CPodsA",
      "include_colab_link": true
    },
    "kernelspec": {
      "name": "python3",
      "display_name": "Python 3"
    },
    "language_info": {
      "name": "python"
    }
  },
  "cells": [
    {
      "cell_type": "markdown",
      "metadata": {
        "id": "view-in-github",
        "colab_type": "text"
      },
      "source": [
        "<a href=\"https://colab.research.google.com/github/EdhnaerA/Numerical-Method_Arcera/blob/main/Python_Exercise_1_Arcera.ipynb\" target=\"_parent\"><img src=\"https://colab.research.google.com/assets/colab-badge.svg\" alt=\"Open In Colab\"/></a>"
      ]
    },
    {
      "cell_type": "markdown",
      "metadata": {
        "id": "j_GRuCclciED"
      },
      "source": [
        "**Create a program using Python that allows a Student to type his/her name, the name of the course, and that computes his/her semestral grade (30% x PG + 30% x MG + 40% x FG)**"
      ]
    },
    {
      "cell_type": "markdown",
      "metadata": {
        "id": "UzvTEA_4agRI"
      },
      "source": [
        "Submitted by: Edhnaer Arcera"
      ]
    },
    {
      "cell_type": "code",
      "metadata": {
        "id": "xofWUDYFaXNh",
        "colab": {
          "base_uri": "https://localhost:8080/"
        },
        "outputId": "a2b4a66f-f9c9-4a50-e011-b66792527ea8"
      },
      "source": [
        "import math\n",
        "\n",
        "print(\"Enter your name:\")\n",
        "Name = input()\n",
        "\n",
        "print(\"---------------------------------\")\n",
        "\n",
        "print(\"Enter your course:\")\n",
        "Course = input()\n",
        "\n",
        "print(\"---------------------------------\")\n",
        "\n",
        "print(\"Enter your Prelimary Grade:\")\n",
        "PG = int(input())\n",
        "\n",
        "print(\"---------------------------------\")\n",
        "\n",
        "print(\"Enter your Midterm Grade:\")\n",
        "MG = int(input())\n",
        "\n",
        "\n",
        "print(\"---------------------------------\")\n",
        "\n",
        "print(\"Enter your Final Grade:\")\n",
        "FG = int(input())\n",
        "\n",
        "TG = (0.3 * PG + 0.3 * MG + 0.4 * FG)\n",
        "print(\"Final grade is:\" + str(TG))\n"
      ],
      "execution_count": null,
      "outputs": [
        {
          "output_type": "stream",
          "text": [
            "Enter your name:\n",
            "EDHNAER\n",
            "---------------------------------\n",
            "Enter your course:\n",
            "BS CPE\n",
            "---------------------------------\n",
            "Enter your Prelimary Grade:\n",
            "78\n",
            "---------------------------------\n",
            "Enter your Midterm Grade:\n",
            "78\n",
            "---------------------------------\n",
            "Enter your Final Grade:\n",
            "89\n",
            "Final grade is:82.4\n"
          ],
          "name": "stdout"
        }
      ]
    }
  ]
}