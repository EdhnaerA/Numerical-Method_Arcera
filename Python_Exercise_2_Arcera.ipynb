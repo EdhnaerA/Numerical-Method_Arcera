{
  "nbformat": 4,
  "nbformat_minor": 0,
  "metadata": {
    "colab": {
      "name": "Python Exercise 2-Arcera",
      "provenance": [],
      "authorship_tag": "ABX9TyOBi4YqFXD0hc+CmjfJBldC",
      "include_colab_link": true
    },
    "kernelspec": {
      "name": "python3",
      "display_name": "Python 3"
    },
    "language_info": {
      "name": "python"
    }
  },
  "cells": [
    {
      "cell_type": "markdown",
      "metadata": {
        "id": "view-in-github",
        "colab_type": "text"
      },
      "source": [
        "<a href=\"https://colab.research.google.com/github/EdhnaerA/Numerical-Method_Arcera/blob/main/Python_Exercise_2_Arcera.ipynb\" target=\"_parent\"><img src=\"https://colab.research.google.com/assets/colab-badge.svg\" alt=\"Open In Colab\"/></a>"
      ]
    },
    {
      "cell_type": "markdown",
      "metadata": {
        "id": "H5xjC65OiDLI"
      },
      "source": [
        "##Matrix and Its Operations\n",
        "Create a NumPy program that performs the operations of the given matrices\n",
        "1. sum = A +B\n",
        "2. difference1 = B - A\n",
        "3. difference2 = A - B"
      ]
    },
    {
      "cell_type": "code",
      "metadata": {
        "colab": {
          "base_uri": "https://localhost:8080/"
        },
        "id": "1D373a8kdZTv",
        "outputId": "2a39baf8-79f6-48da-9ebb-31e9ac37615a"
      },
      "source": [
        "import numpy as np\n",
        "\n",
        "E = np.array([[-5, 0], [4, 1]])\n",
        "D = np.array([[6, -3], [2, 3]])\n",
        "\n",
        "print(E)\n",
        "print(D)\n",
        "###################################\n",
        "H = E + D #SUM\n",
        "L = D - E #DIFFERENCE 1\n",
        "N = E - D #DIFFERENCE 2\n",
        "###################################\n",
        "print(H)\n",
        "print(L)\n",
        "print(N)\n"
      ],
      "execution_count": 3,
      "outputs": [
        {
          "output_type": "stream",
          "name": "stdout",
          "text": [
            "[[-5  0]\n",
            " [ 4  1]]\n",
            "[[ 6 -3]\n",
            " [ 2  3]]\n",
            "[[ 1 -3]\n",
            " [ 6  4]]\n",
            "[[11 -3]\n",
            " [-2  2]]\n",
            "[[-11   3]\n",
            " [  2  -2]]\n"
          ]
        }
      ]
    }
  ]
}