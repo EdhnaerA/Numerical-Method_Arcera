{
  "nbformat": 4,
  "nbformat_minor": 0,
  "metadata": {
    "colab": {
      "name": "Python Exercise 2-Arcera",
      "provenance": [],
      "collapsed_sections": [],
      "authorship_tag": "ABX9TyPtY+9fWPts2C2TLyiSrE76",
      "include_colab_link": true
    },
    "kernelspec": {
      "name": "python3",
      "display_name": "Python 3"
    },
    "language_info": {
      "name": "python"
    }
  },
  "cells": [
    {
      "cell_type": "markdown",
      "metadata": {
        "id": "view-in-github",
        "colab_type": "text"
      },
      "source": [
        "<a href=\"https://colab.research.google.com/github/EdhnaerA/Numerical-Method_Arcera/blob/main/Python_Exercise_2_Arcera.ipynb\" target=\"_parent\"><img src=\"https://colab.research.google.com/assets/colab-badge.svg\" alt=\"Open In Colab\"/></a>"
      ]
    },
    {
      "cell_type": "markdown",
      "metadata": {
        "id": "H5xjC65OiDLI"
      },
      "source": [
        "##Matrix and Its Operations\n",
        "Create a NumPy program that performs the operations of the given matrices\n",
        "1. sum = A +B\n",
        "2. difference1 = B - A\n",
        "3. difference2 = A - B"
      ]
    },
    {
      "cell_type": "code",
      "metadata": {
        "colab": {
          "base_uri": "https://localhost:8080/"
        },
        "id": "1D373a8kdZTv",
        "outputId": "fee8137a-a745-4696-d529-a966395dccfc"
      },
      "source": [
        "import numpy as np\n",
        "\n",
        "A = np.array([[-5, 0], [4, 1]])\n",
        "B = np.array([[6, -3], [2, 3]])\n",
        "\n",
        "###################################\n",
        "H = A + B #SUM\n",
        "L = B - A #DIFFERENCE 1\n",
        "N = A - B #DIFFERENCE 2\n",
        "###################################\n",
        "print(H)\n",
        "print(L)\n",
        "print(N)\n"
      ],
      "execution_count": 11,
      "outputs": [
        {
          "output_type": "stream",
          "name": "stdout",
          "text": [
            "[[ 1 -3]\n",
            " [ 6  4]]\n",
            "[[11 -3]\n",
            " [-2  2]]\n",
            "[[-11   3]\n",
            " [  2  -2]]\n"
          ]
        }
      ]
    }
  ]
}