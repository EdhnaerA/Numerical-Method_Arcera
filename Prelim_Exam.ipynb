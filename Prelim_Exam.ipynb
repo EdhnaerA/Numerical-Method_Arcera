{
  "nbformat": 4,
  "nbformat_minor": 0,
  "metadata": {
    "colab": {
      "name": "Prelim Exam",
      "provenance": [],
      "authorship_tag": "ABX9TyNw+MG351S4XVjDpKpa0qhB",
      "include_colab_link": true
    },
    "kernelspec": {
      "name": "python3",
      "display_name": "Python 3"
    },
    "language_info": {
      "name": "python"
    }
  },
  "cells": [
    {
      "cell_type": "markdown",
      "metadata": {
        "id": "view-in-github",
        "colab_type": "text"
      },
      "source": [
        "<a href=\"https://colab.research.google.com/github/EdhnaerA/Numerical-Method_Arcera/blob/main/Prelim_Exam.ipynb\" target=\"_parent\"><img src=\"https://colab.research.google.com/assets/colab-badge.svg\" alt=\"Open In Colab\"/></a>"
      ]
    },
    {
      "cell_type": "markdown",
      "metadata": {
        "id": "xmXab887QkE6"
      },
      "source": [
        "Evaluate the determinant of matrix A using Chios Method"
      ]
    },
    {
      "cell_type": "markdown",
      "metadata": {
        "id": "h6_GVHBQZMuX"
      },
      "source": [
        "Submitted By: Edhnaer Arcera"
      ]
    },
    {
      "cell_type": "code",
      "metadata": {
        "id": "Os87DuG2OnNS",
        "colab": {
          "base_uri": "https://localhost:8080/"
        },
        "outputId": "a7340d34-ad14-46e2-a6b1-a3d30c1977fe"
      },
      "source": [
        "import numpy as np\n",
        "A=np.array([[1,2,3],[2,3,3],[3,4,-2]])\n",
        "print(A)\n",
        "print(np.linalg.det(A))\n",
        "print(round(np.linalg.det(A)))"
      ],
      "execution_count": 6,
      "outputs": [
        {
          "output_type": "stream",
          "name": "stdout",
          "text": [
            "[[ 1  2  3]\n",
            " [ 2  3  3]\n",
            " [ 3  4 -2]]\n",
            "5.000000000000001\n",
            "5\n"
          ]
        }
      ]
    }
  ]
}