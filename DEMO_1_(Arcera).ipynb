{
  "nbformat": 4,
  "nbformat_minor": 0,
  "metadata": {
    "colab": {
      "name": "DEMO 1 (Arcera)",
      "provenance": [],
      "collapsed_sections": []
    },
    "kernelspec": {
      "name": "python3",
      "display_name": "Python 3"
    },
    "language_info": {
      "name": "python"
    }
  },
  "cells": [
    {
      "cell_type": "code",
      "metadata": {
        "colab": {
          "base_uri": "https://localhost:8080/"
        },
        "id": "FeWc2EjASGzr",
        "outputId": "2085e813-96d5-48cc-9101-b0ac070a270f"
      },
      "source": [
        "x = \"enjoying\"\n",
        "print(\"Python programming is \" + x )"
      ],
      "execution_count": 4,
      "outputs": [
        {
          "output_type": "stream",
          "text": [
            "Python programming is enjoying\n"
          ],
          "name": "stdout"
        }
      ]
    },
    {
      "cell_type": "code",
      "metadata": {
        "colab": {
          "base_uri": "https://localhost:8080/"
        },
        "id": "GcNBemtVTJcN",
        "outputId": "2fc30e96-e97e-4cb9-fee3-2aa6973a5926"
      },
      "source": [
        "x = 4\n",
        "y = 3\n",
        "print(x+y)"
      ],
      "execution_count": 5,
      "outputs": [
        {
          "output_type": "stream",
          "text": [
            "7\n"
          ],
          "name": "stdout"
        }
      ]
    },
    {
      "cell_type": "code",
      "metadata": {
        "colab": {
          "base_uri": "https://localhost:8080/"
        },
        "id": "xFlksWBLTcO8",
        "outputId": "97034f7f-aaf4-4786-ed5b-217abcb221fc"
      },
      "source": [
        "x = 4\n",
        "y = 3\n",
        "sum= x+y\n",
        "sum"
      ],
      "execution_count": 6,
      "outputs": [
        {
          "output_type": "execute_result",
          "data": {
            "text/plain": [
              "7"
            ]
          },
          "metadata": {},
          "execution_count": 6
        }
      ]
    },
    {
      "cell_type": "code",
      "metadata": {
        "colab": {
          "base_uri": "https://localhost:8080/"
        },
        "id": "2WXgN8iQTj06",
        "outputId": "9124e5ed-2da4-4e5d-f884-3d65f7be1b45"
      },
      "source": [
        "a,b,c=0,-1,5\n",
        "c%=2 \n",
        "c"
      ],
      "execution_count": 12,
      "outputs": [
        {
          "output_type": "execute_result",
          "data": {
            "text/plain": [
              "1"
            ]
          },
          "metadata": {},
          "execution_count": 12
        }
      ]
    },
    {
      "cell_type": "code",
      "metadata": {
        "colab": {
          "base_uri": "https://localhost:8080/"
        },
        "id": "birbUZ7XWnfl",
        "outputId": "ca7b248b-1225-4ab9-90d4-a1c151d968a7"
      },
      "source": [
        "E = 2\n",
        "A = 3\n",
        "Compare= E<A\n",
        "print(Compare)"
      ],
      "execution_count": 13,
      "outputs": [
        {
          "output_type": "stream",
          "text": [
            "True\n"
          ],
          "name": "stdout"
        }
      ]
    },
    {
      "cell_type": "code",
      "metadata": {
        "colab": {
          "base_uri": "https://localhost:8080/"
        },
        "id": "neAelzKNUxPJ",
        "outputId": "5aa45bbc-ddba-4a60-d387-1e77a9a9a01e"
      },
      "source": [
        "A = 5\n",
        "B = 3\n",
        "print(A + B)"
      ],
      "execution_count": 10,
      "outputs": [
        {
          "output_type": "stream",
          "text": [
            "8\n"
          ],
          "name": "stdout"
        }
      ]
    },
    {
      "cell_type": "code",
      "metadata": {
        "colab": {
          "base_uri": "https://localhost:8080/"
        },
        "id": "9xDGteNwV476",
        "outputId": "7703b442-3b3c-4efc-9c7f-470345e68439"
      },
      "source": [
        "H = 1\n",
        "L = 27\n",
        "R = 98\n",
        "print(H + L + R)"
      ],
      "execution_count": 11,
      "outputs": [
        {
          "output_type": "stream",
          "text": [
            "126\n"
          ],
          "name": "stdout"
        }
      ]
    }
  ]
}